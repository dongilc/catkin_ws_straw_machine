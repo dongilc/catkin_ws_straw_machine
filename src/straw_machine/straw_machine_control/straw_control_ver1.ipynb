{
 "cells": [
  {
   "cell_type": "code",
   "execution_count": 2,
   "metadata": {},
   "outputs": [],
   "source": [
    "import rospy\n",
    "import math\n",
    "\n",
    "from std_msgs.msg import Float64\n",
    "from math import sin,cos,atan2,sqrt,fabs\n",
    "\n",
    "#Define a RRBot joint positions publisher for joint controllers.\n",
    "def rrbot_joint_positions_publisher():\n",
    "\n",
    "\t#Initiate node for controlling joint1 and joint2 positions.\n",
    "\trospy.init_node('joint_positions_node', anonymous=True)\n",
    "\n",
    "\t#Define publishers for each joint position controller commands.\n",
    "\tpub1 = rospy.Publisher('/rrbot/joint1_position_controller/command', Float64, queue_size=10)\n",
    "\tpub2 = rospy.Publisher('/rrbot/joint2_position_controller/command', Float64, queue_size=10)\n",
    "\n",
    "\trate = rospy.Rate(100) #100 Hz\n",
    "\n",
    "\t#While loop to have joints follow a certain position, while rospy is not shutdown.\n",
    "\ti = 0\n",
    "\twhile not rospy.is_shutdown():\n",
    "\n",
    "\t\t#Have each joint follow a sine movement of sin(i/100).\n",
    "\t\tsine_movement = sin(i/100.)\n",
    "\n",
    "\t\t#Publish the same sine movement to each joint.\n",
    "\t\tpub1.publish(sine_movement)\n",
    "\t\tpub2.publish(sine_movement)\n",
    "\n",
    "\t\ti = i+1 #increment i\n",
    "\n",
    "\t\trate.sleep() #sleep for rest of rospy.Rate(100)\n",
    "\n",
    "#Main section of code that will continuously run unless rospy receives interuption (ie CTRL+C)\n",
    "if __name__ == '__main__':\n",
    "\ttry: rrbot_joint_positions_publisher()\n",
    "\texcept rospy.ROSInterruptException: pass"
   ]
  },
  {
   "cell_type": "code",
   "execution_count": null,
   "metadata": {},
   "outputs": [],
   "source": []
  }
 ],
 "metadata": {
  "kernelspec": {
   "display_name": "Python 2",
   "language": "python",
   "name": "python2"
  },
  "language_info": {
   "codemirror_mode": {
    "name": "ipython",
    "version": 2
   },
   "file_extension": ".py",
   "mimetype": "text/x-python",
   "name": "python",
   "nbconvert_exporter": "python",
   "pygments_lexer": "ipython2",
   "version": "2.7.16"
  }
 },
 "nbformat": 4,
 "nbformat_minor": 2
}
